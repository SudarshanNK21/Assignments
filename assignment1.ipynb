{
 "cells": [
  {
   "cell_type": "raw",
   "id": "8a694e0d",
   "metadata": {},
   "source": [
    "1. In the below elements which of them are values or an expression? eg:- values can be\n",
    "integer or string and expressions will be mathematical operators.\n",
    "\n",
    "*           -expressions\n",
    "'hello'     -value\n",
    "-87.8       -value\n",
    "-           -expressions\n",
    "/           -expressions\n",
    "+           -expressions\n",
    "6           -value\n"
   ]
  },
  {
   "cell_type": "raw",
   "id": "f0a0b182",
   "metadata": {},
   "source": [
    "2. What is the difference between string and variable?\n",
    "\n",
    "A Variable is a store of information, and a String is a type of information you would store in a Variable. A String is usually words, enclosed with \"\" Eg String x =\"Welcome to ineuron\" where X is the Variable, and we declared it as a String, use the single = to assign the text to it.\n"
   ]
  },
  {
   "cell_type": "raw",
   "id": "b1c61018",
   "metadata": {},
   "source": [
    "3. Describe three different data types.\n",
    "\n",
    "Integers – This value is represented by int class. It contains positive or negative whole numbers (without fraction or decimal). In Python there is no limit to how long an integer value can be.\n",
    "ex: 2, 5, 548\n",
    "\n",
    "Float – This value is represented by float class. It is a real number with floating point representation. It is specified by a decimal point. Optionally, the character e or E followed by a positive or negative integer may be appended to specify scientific notation.\n",
    "ex: 5.33, 8.9895\n",
    "\n",
    "Complex Numbers – Complex number is represented by complex class. It is specified as (real part) + (imaginary part)j. For example – 2+3j"
   ]
  },
  {
   "cell_type": "raw",
   "id": "65df1702",
   "metadata": {},
   "source": [
    "4. What is an expression made up of? What do all expressions do?\n",
    "\n",
    "An expression is a combination of operators and operands that is interpreted to produce some other value.\n",
    "\n",
    " For example, this is an expression: >>> 2 + 2. The 2s are integer values and the + is the mathematical operator. This expression evaluates down to the single integer value 4"
   ]
  },
  {
   "cell_type": "raw",
   "id": "29430755",
   "metadata": {},
   "source": [
    "5.What is the difference between an expression and a statement?\n",
    "\n",
    "In programming language terminology, an “expression” is a combination of values and functions that are combined and interpreted by the compiler to create a new value, as opposed to a “statement” which is just a standalone unit of execution and doesn't return anything.\n",
    "\n",
    "ex: 1+3 is an expression\n",
    "    a=1+3 is a statement"
   ]
  },
  {
   "cell_type": "raw",
   "id": "0b5d489a",
   "metadata": {},
   "source": [
    "6. After running the following code, what does the variable bacon contain?\n",
    "bacon = 22\n",
    "bacon + 1\n",
    "\n",
    "bacon contains value of 22"
   ]
  },
  {
   "cell_type": "raw",
   "id": "6b36f5b4",
   "metadata": {},
   "source": [
    "7. What should the values of the following two terms be?\n",
    "'spam'+'spamspam'\n",
    "'spam'* 3\n",
    "\n",
    "ans: 'spamspamspam'"
   ]
  },
  {
   "cell_type": "raw",
   "id": "1c5e48e5",
   "metadata": {},
   "source": [
    "8. Why is eggs a valid variable name while 100 is invalid?\n",
    "\n",
    "A variable name must start with a letter or the underscore character.\n",
    "A variable name cannot start with a number.\n",
    "A variable name can only contain alpha-numeric characters and underscores (A-z, 0-9, and _ )\n",
    "Variable names are case-sensitive (age, Age and AGE are three different variables)\n",
    "\n",
    "So, eggs is a valid variable while 100 is not\n",
    "\n"
   ]
  },
  {
   "cell_type": "raw",
   "id": "d3eb16fa",
   "metadata": {},
   "source": [
    "9. What three functions can be used to get the integer, floating-point number, or string\n",
    "version of a value?\n",
    "int(),float(),str()"
   ]
  },
  {
   "cell_type": "raw",
   "id": "525093fd",
   "metadata": {},
   "source": [
    "10. Why does this expression cause an error? How can you fix it?\n",
    "'I have eaten'+ 99 +'burritos'\n",
    "\n",
    "Because 'i have eaten' and 'burritos' are string, while 99 is int type.So we cannot concatenate them togther.\n",
    "\n",
    "SO we have to convert 99 to str type\n",
    "\n",
    "'I have eaten'+ str(99) +'burritos'"
   ]
  }
 ],
 "metadata": {
  "kernelspec": {
   "display_name": "Python 3 (ipykernel)",
   "language": "python",
   "name": "python3"
  },
  "language_info": {
   "codemirror_mode": {
    "name": "ipython",
    "version": 3
   },
   "file_extension": ".py",
   "mimetype": "text/x-python",
   "name": "python",
   "nbconvert_exporter": "python",
   "pygments_lexer": "ipython3",
   "version": "3.9.7"
  }
 },
 "nbformat": 4,
 "nbformat_minor": 5
}
