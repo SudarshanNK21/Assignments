{
 "cells": [
  {
   "cell_type": "code",
   "execution_count": 1,
   "id": "8b7c1a6d",
   "metadata": {},
   "outputs": [
    {
     "name": "stdout",
     "output_type": "stream",
     "text": [
      "Enter a : 1\n",
      "Enter b : 10\n",
      "Enter c : 2\n",
      "30\n"
     ]
    }
   ],
   "source": [
    "'''\n",
    "Question1. Create a function that takes three arguments a, b, c and returns the sum of the\n",
    "numbers that are evenly divided by c from the range a, b inclusive.\n",
    "'''\n",
    "def sumDivisibles(a, b, c):     \n",
    "    sum = 0\n",
    "    for i in range(a, b + 1): \n",
    "        if (i % c == 0):\n",
    "            sum += i \n",
    "    return sum\n",
    "a = int(input('Enter a : '))\n",
    "b = int(input('Enter b : '))\n",
    "c = int(input('Enter c : '))\n",
    "print(sumDivisibles(a, b, c))"
   ]
  },
  {
   "cell_type": "code",
   "execution_count": 2,
   "id": "8e67b773",
   "metadata": {},
   "outputs": [
    {
     "name": "stdout",
     "output_type": "stream",
     "text": [
      "False\n",
      "False\n",
      "True\n"
     ]
    }
   ],
   "source": [
    "'''\n",
    "Question2.\n",
    "Create a function that returns True if a given inequality expression is correct and\n",
    "False otherwise.\n",
    "Examples\n",
    "correct_signs(\"3 > 7 < 11\") ➞ True\n",
    "correct_signs(\"13 > 44 > 33 > 1\") ➞ False\n",
    "correct_signs(\"1 < 2 < 6 < 9 > 3\") ➞ True\n",
    "'''\n",
    "def correct_signs ( txt ) : \n",
    "    return eval ( txt )\n",
    "print(correct_signs(\"3 > 7 < 11\"))\n",
    "print(correct_signs(\"13 > 44 > 33 > 1\"))\n",
    "print(correct_signs(\"1 < 2 < 6 < 9 > 3\"))"
   ]
  },
  {
   "cell_type": "code",
   "execution_count": 3,
   "id": "e47f89f2",
   "metadata": {},
   "outputs": [
    {
     "name": "stdout",
     "output_type": "stream",
     "text": [
      "enter a string : shakespeare\n",
      "enter a vowel replacing string : *\n",
      "\n",
      "Given Sting: shakespeare\n",
      "Given Specified Character: *\n",
      "Afer replacing vowels with the specified character: sh*k*sp**r*\n"
     ]
    }
   ],
   "source": [
    "'''\n",
    "Question3.\n",
    "Create a function that replaces all the vowels in a string with a specified character.\n",
    "Examples\n",
    "replace_vowels('the aardvark, '#') ➞ 'th# ##rdv#rk'\n",
    "replace_vowels('minnie mouse', '?') ➞ 'm?nn?? m??s?'\n",
    "replace_vowels('shakespeare', '*') ➞ 'sh*k*sp**r*'\n",
    "'''\n",
    "\n",
    "def replace_vowels(str, s):\n",
    "    vowels = 'AEIOUaeiou'\n",
    "    for ele in vowels:  \n",
    "        str = str.replace(ele, s)  \n",
    "    return str\n",
    "  \n",
    "input_str = input(\"enter a string : \")\n",
    "s = input(\"enter a vowel replacing string : \")\n",
    "print(\"\\nGiven Sting:\", input_str)\n",
    "print(\"Given Specified Character:\", s)\n",
    "print(\"Afer replacing vowels with the specified character:\",replace_vowels(input_str, s))"
   ]
  },
  {
   "cell_type": "code",
   "execution_count": 5,
   "id": "ec9ddcc5",
   "metadata": {},
   "outputs": [
    {
     "name": "stdout",
     "output_type": "stream",
     "text": [
      "enter a number :5\n",
      "120\n"
     ]
    }
   ],
   "source": [
    "'''\n",
    "Question4.\n",
    "Write a function that calculates the factorial of a number recursively.\n",
    "Examples\n",
    "factorial(5) ➞ 120\n",
    "factorial(3) ➞ 6\n",
    "factorial(1) ➞ 1\n",
    "factorial(0) ➞ 1\n",
    "'''\n",
    "def factorial(n):     \n",
    "    if n == 0:\n",
    "        return 1    \n",
    "    return n * factorial(n-1)\n",
    "\n",
    "num = int(input('enter a number :'))\n",
    "print(factorial(num))"
   ]
  },
  {
   "cell_type": "code",
   "execution_count": 8,
   "id": "e4d7bb62",
   "metadata": {},
   "outputs": [
    {
     "name": "stdout",
     "output_type": "stream",
     "text": [
      "5\n",
      "0\n",
      "1\n"
     ]
    }
   ],
   "source": [
    "'''\n",
    "Question 5\n",
    "Hamming distance is the number of characters that differ between two strings.\n",
    "To illustrate:\n",
    "String1: 'abcbba'\n",
    "String2: 'abcbda'\n",
    "Hamming Distance: 1 - 'b' vs. 'd' is the only difference.\n",
    "Create a function that computes the hamming distance between two strings.\n",
    "Examples\n",
    "hamming_distance('abcde', 'bcdef') ➞ 5\n",
    "hamming_distance('abcde', 'abcde') ➞ 0\n",
    "hamming_distance('strong', 'strung') ➞ 1\n",
    "'''\n",
    "def hamming_distance(str1, str2):\n",
    "    i = 0\n",
    "    count = 0\n",
    " \n",
    "    while(i < len(str1)):\n",
    "        if(str1[i] != str2[i]):\n",
    "            count += 1\n",
    "        i += 1\n",
    "    return count\n",
    " \n",
    "# Driver code \n",
    "str1 = \"abcde\"\n",
    "str2 = \"bcdef\"\n",
    " \n",
    "print(hamming_distance('abcde', 'bcdef') )\n",
    "print(hamming_distance('abcde', 'abcde') )\n",
    "print(hamming_distance('strong', 'strung') )"
   ]
  },
  {
   "cell_type": "code",
   "execution_count": null,
   "id": "a575160f",
   "metadata": {},
   "outputs": [],
   "source": []
  }
 ],
 "metadata": {
  "kernelspec": {
   "display_name": "Python 3 (ipykernel)",
   "language": "python",
   "name": "python3"
  },
  "language_info": {
   "codemirror_mode": {
    "name": "ipython",
    "version": 3
   },
   "file_extension": ".py",
   "mimetype": "text/x-python",
   "name": "python",
   "nbconvert_exporter": "python",
   "pygments_lexer": "ipython3",
   "version": "3.9.7"
  }
 },
 "nbformat": 4,
 "nbformat_minor": 5
}
