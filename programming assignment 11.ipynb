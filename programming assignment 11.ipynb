{
 "cells": [
  {
   "cell_type": "code",
   "execution_count": 9,
   "id": "679cb044",
   "metadata": {},
   "outputs": [
    {
     "name": "stdout",
     "output_type": "stream",
     "text": [
      "enter a string : program for removing \n",
      "enter k value :3\n",
      "program\n",
      "removing\n"
     ]
    }
   ],
   "source": [
    "#1. Write a Python program to find words which are greater than given length k?\n",
    "\n",
    "def word_k(k, s):    \n",
    "    \n",
    "    word = s.split(\" \")\n",
    "    for x in word:\n",
    "        if len(x)>k:\n",
    "          print(x)\n",
    "s = input('enter a string :')\n",
    "k = int(input('enter k value :'))\n",
    "word_k(k, s)"
   ]
  },
  {
   "cell_type": "code",
   "execution_count": 7,
   "id": "fd5ad317",
   "metadata": {},
   "outputs": [
    {
     "name": "stdout",
     "output_type": "stream",
     "text": [
      "enter a string :hello ineuron\n",
      "enter i value :3\n",
      "helo ineuron\n"
     ]
    }
   ],
   "source": [
    "#2. Write a Python program for removing i-th character from a string?\n",
    "\n",
    "def remove_char(s, i):\n",
    "\n",
    "    for j in range(len(s)):\n",
    "        if j==i:\n",
    "            s=s.replace(s[i],\"\",1)\n",
    "    return s\n",
    "\n",
    "string = input('enter a string :')\n",
    "i = int(input('enter i value :'))\n",
    "print(remove_char(string,i-1))"
   ]
  },
  {
   "cell_type": "code",
   "execution_count": 11,
   "id": "9d560e9d",
   "metadata": {},
   "outputs": [
    {
     "name": "stdout",
     "output_type": "stream",
     "text": [
      "enter a string :Write a Python program to split and join a string\n",
      "After Splitting:  ['Write', 'a', 'Python', 'program', 'to', 'split', 'and', 'join', 'a', 'string']\n",
      "After joining:  Write-a-Python-program-to-split-and-join-a-string\n"
     ]
    }
   ],
   "source": [
    "#3. Write a Python program to split and join a string?\n",
    "\n",
    "def split_string(string):\n",
    "    list_string = string.split(' ')\n",
    "    return list_string\n",
    "\n",
    "def join_string(list_string):\n",
    "    string = '-'.join(list_string)\n",
    "    return string\n",
    "\n",
    "string = input('enter a string :')\n",
    "list_string = split_string(string)\n",
    "print(\"After Splitting: \",list_string)\n",
    "\n",
    "res_string = join_string(list_string)\n",
    "print(\"After joining: \",res_string)"
   ]
  },
  {
   "cell_type": "code",
   "execution_count": 12,
   "id": "c5f8ff08",
   "metadata": {},
   "outputs": [
    {
     "name": "stdout",
     "output_type": "stream",
     "text": [
      "enter a string :1001\n",
      "Binary String\n"
     ]
    }
   ],
   "source": [
    "#4. Write a Python to check if a given string is binary string or not?\n",
    "\n",
    "def check(string) :\n",
    "    b = set(string)\n",
    "    s = {'0', '1'}\n",
    "    if s == b or b == {'0'} or b == {'1'}:\n",
    "        print(\"Binary String\")\n",
    "    else :\n",
    "        print(\"Non Binary String\")\n",
    "  \n",
    "s= input('enter a string :')\n",
    "check(s)\n"
   ]
  },
  {
   "cell_type": "code",
   "execution_count": 15,
   "id": "1dea78f1",
   "metadata": {},
   "outputs": [
    {
     "name": "stdout",
     "output_type": "stream",
     "text": [
      "enter 1st string :berry peach cherry\n",
      "enter 2nd string :berry mango cherry\n",
      " peach mango\n"
     ]
    }
   ],
   "source": [
    "#5. Write a Python program to find uncommon words from two Strings?\n",
    "\n",
    "def uncommon(s1,s2):\n",
    "    list_s1 = s1.split()\n",
    "    list_s2 = s2.split()\n",
    "    uc_words = \"\"\n",
    "    for i in list_s1:\n",
    "        if i not in list_s2:\n",
    "            uc_words =  uc_words+\" \"+i\n",
    "    for j in list_s2:\n",
    "        if j not in list_s1:\n",
    "             uc_words =  uc_words+\" \"+j\n",
    "  \n",
    "    return  uc_words\n",
    "  \n",
    "\n",
    "a = input('enter 1st string :')\n",
    "b = input('enter 2nd string :')\n",
    "print(uncommon(a,b))"
   ]
  },
  {
   "cell_type": "code",
   "execution_count": 17,
   "id": "115ce32d",
   "metadata": {},
   "outputs": [
    {
     "name": "stdout",
     "output_type": "stream",
     "text": [
      "enter a string :Welcome to ineuron\n",
      "All the duplicate characters in the string are: \n",
      "e  -  3\n",
      "o  -  3\n",
      "e  -  2\n",
      "o  -  2\n"
     ]
    }
   ],
   "source": [
    "#6. Write a Python to find all duplicate characters in string?\n",
    "\n",
    "string =  input('enter a string :')\n",
    "print(\"All the duplicate characters in the string are: \"); \n",
    "for s in range(0, len(string)): \n",
    "   count = 1; \n",
    "   for t in range(s+1, len(string)):\n",
    "      if(string[s] == string[t] and string[s] != ' '): \n",
    "         count = count + 1; \n",
    "\n",
    "   string = string[:t] + '0' + string[t+1:]; \n",
    "\n",
    "   if(count > 1 and string[s] != '0'): \n",
    "      print(string[s],\" - \",count);"
   ]
  },
  {
   "cell_type": "code",
   "execution_count": 19,
   "id": "a6e92706",
   "metadata": {},
   "outputs": [
    {
     "name": "stdout",
     "output_type": "stream",
     "text": [
      "enter a string :sdjk%^&\n",
      "sdjk%^&\n",
      "The string contains special characters.\n"
     ]
    }
   ],
   "source": [
    "#7. Write a Python Program to check if a string contains any special character?\n",
    "\n",
    "import re\n",
    "\n",
    "def find(string):\n",
    "    special_char=re.compile('[@_!$%^&*()<>?/\\|}{~:]#')\n",
    "    \n",
    "    if special_char.search(string) == None:\n",
    "        return \"The string contains special characters.\"\n",
    "    else:\n",
    "        return \"The string does not contain special characters.\"\n",
    "   \n",
    "\n",
    "s=input('enter a string :')\n",
    "print(s)\n",
    "print(find(s))"
   ]
  }
 ],
 "metadata": {
  "kernelspec": {
   "display_name": "Python 3 (ipykernel)",
   "language": "python",
   "name": "python3"
  },
  "language_info": {
   "codemirror_mode": {
    "name": "ipython",
    "version": 3
   },
   "file_extension": ".py",
   "mimetype": "text/x-python",
   "name": "python",
   "nbconvert_exporter": "python",
   "pygments_lexer": "ipython3",
   "version": "3.9.7"
  }
 },
 "nbformat": 4,
 "nbformat_minor": 5
}
