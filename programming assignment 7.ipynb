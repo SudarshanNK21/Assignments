{
 "cells": [
  {
   "cell_type": "code",
   "execution_count": 3,
   "id": "be8e0cd6",
   "metadata": {},
   "outputs": [
    {
     "name": "stdout",
     "output_type": "stream",
     "text": [
      "Sum of all the elements of an array: 15\n"
     ]
    }
   ],
   "source": [
    "# 1. Write a Python Program to find sum of array?\n",
    "\n",
    "arr = [1, 2, 3, 4, 5]\n",
    "sum = 0    \n",
    "        \n",
    "for i in range(0, len(arr)):    \n",
    "   sum +=arr[i]    \n",
    "     \n",
    "print(f\"Sum of all the elements of an array: {sum}\")  "
   ]
  },
  {
   "cell_type": "code",
   "execution_count": 4,
   "id": "c9970a69",
   "metadata": {},
   "outputs": [
    {
     "name": "stdout",
     "output_type": "stream",
     "text": [
      "Largest element present in given array: 75\n"
     ]
    }
   ],
   "source": [
    "# 2. Write a Python Program to find largest element in an array?\n",
    "\n",
    "arr = [25, 11, 7, 75, 56] \n",
    "max = arr[0]   \n",
    "     \n",
    "for i in range(0, len(arr)):  \n",
    "   if(arr[i] > max):    \n",
    "       max = arr[i]  \n",
    "           \n",
    "print(f\"Largest element present in given array: {max}\") "
   ]
  },
  {
   "cell_type": "code",
   "execution_count": 5,
   "id": "eea6e77a",
   "metadata": {},
   "outputs": [
    {
     "name": "stdout",
     "output_type": "stream",
     "text": [
      "Enter elements of a arr separated by space: 1 2 3 4 5 6\n",
      "The array is :  ['1', '2', '3', '4', '5', '6']\n",
      "Enter no of elements : 1\n",
      "Rotated list is\n",
      "['2', '3', '4', '5', '6', '1']\n"
     ]
    }
   ],
   "source": [
    "# 3. Write a Python Program for array rotation?\n",
    "\n",
    "    \n",
    "def rotateList(arr,d,n):\n",
    "    arr[:]=arr[d:n]+arr[0:d]\n",
    "    return arr\n",
    "\n",
    "arr_raw = input('Enter elements of a arr separated by space: ')\n",
    "arr = arr_raw.split()\n",
    "print(\"The array is : \", arr)\n",
    "elements = int(input(\"Enter no of elements : \"))\n",
    "print(\"Rotated list is\")\n",
    "print(rotateList(arr,elements,len(arr)))"
   ]
  },
  {
   "cell_type": "code",
   "execution_count": 8,
   "id": "da0bbfc4",
   "metadata": {},
   "outputs": [
    {
     "name": "stdout",
     "output_type": "stream",
     "text": [
      "Enter elements of a arr separated by space: 1 2 3 4 5 6 7 8 9\n",
      "Enter position : 4\n",
      "After Spliting and adding the first part to the end, the array is: \n",
      "5 6 7 8 9 1 2 3 4 "
     ]
    }
   ],
   "source": [
    "# 4. Write a Python Program to Split the array and add the first part to the end?\n",
    "\n",
    "def split_array(a, n, k): \n",
    "   b = a[:k]\n",
    "   return (a[k::]+b[::])\n",
    "arr_raw = input('Enter elements of a arr separated by space: ')\n",
    "arr = arr_raw.split()\n",
    "n = len(arr)\n",
    "position = int(input(\"Enter position : \"))\n",
    "arr = split_array(arr, n, position)\n",
    "print(\"After Spliting and adding the first part to the end, the array is: \")\n",
    "for i in range(0, n): \n",
    "    print(arr[i], end = ' ')"
   ]
  },
  {
   "cell_type": "code",
   "execution_count": 9,
   "id": "cdff9097",
   "metadata": {},
   "outputs": [
    {
     "name": "stdout",
     "output_type": "stream",
     "text": [
      "Enter elements of a arr separated by space: 4 3 2\n",
      "True\n"
     ]
    }
   ],
   "source": [
    "# 5. Write a Python Program to check if given array is Monotonic?\n",
    "\n",
    "def ismonotone(a):\n",
    "    n=len(a) \n",
    "    if n==1:\n",
    "        return True\n",
    "    else:\n",
    "        if all(a[i]>=a[i+1] for i in range(0,n-1) or a[i]<=a[i+1] for i in range(0,n-1)):\n",
    "            return True\n",
    "        else:\n",
    "            return False\n",
    "\n",
    "arr_raw = input('Enter elements of a arr separated by space: ')\n",
    "arr = arr_raw.split()\n",
    "print(ismonotone(arr))"
   ]
  },
  {
   "cell_type": "code",
   "execution_count": null,
   "id": "f1f849cd",
   "metadata": {},
   "outputs": [],
   "source": []
  }
 ],
 "metadata": {
  "kernelspec": {
   "display_name": "Python 3 (ipykernel)",
   "language": "python",
   "name": "python3"
  },
  "language_info": {
   "codemirror_mode": {
    "name": "ipython",
    "version": 3
   },
   "file_extension": ".py",
   "mimetype": "text/x-python",
   "name": "python",
   "nbconvert_exporter": "python",
   "pygments_lexer": "ipython3",
   "version": "3.9.7"
  }
 },
 "nbformat": 4,
 "nbformat_minor": 5
}
