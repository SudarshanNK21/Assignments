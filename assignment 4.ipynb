{
 "cells": [
  {
   "cell_type": "raw",
   "id": "400250e3",
   "metadata": {},
   "source": [
    "1. What exactly is []?\n",
    "\n",
    "    [] is an empty list. Which contains no elements.\n",
    "    "
   ]
  },
  {
   "cell_type": "raw",
   "id": "51def4d6",
   "metadata": {},
   "source": [
    "2. In a list of values stored in a variable called spam, how would you assign the value 'hello' as the third value? (Assume [2, 4, 6, 8, 10] are in spam.)\n",
    "\n",
    "    spam[2] = 'hello'"
   ]
  },
  {
   "cell_type": "code",
   "execution_count": 1,
   "id": "9ea484a4",
   "metadata": {},
   "outputs": [
    {
     "data": {
      "text/plain": [
       "[2, 4, 'hello', 8, 10]"
      ]
     },
     "execution_count": 1,
     "metadata": {},
     "output_type": "execute_result"
    }
   ],
   "source": [
    "spam = [2, 4, 6, 8, 10]\n",
    "spam[2] = 'hello' \n",
    "spam"
   ]
  },
  {
   "cell_type": "raw",
   "id": "9be92706",
   "metadata": {},
   "source": [
    "3. What is the value of spam[int(int('3' * 2) / 11)]?"
   ]
  },
  {
   "cell_type": "code",
   "execution_count": 7,
   "id": "fad2dce3",
   "metadata": {},
   "outputs": [
    {
     "data": {
      "text/plain": [
       "8"
      ]
     },
     "execution_count": 7,
     "metadata": {},
     "output_type": "execute_result"
    }
   ],
   "source": [
    "spam = [2, 4, 6, 8, 10]\n",
    "spam[int(int('3' * 2) / 11)]\n"
   ]
  },
  {
   "cell_type": "raw",
   "id": "50a79246",
   "metadata": {},
   "source": [
    "4. What is the value of spam[-1]?\n",
    "\n",
    "    10"
   ]
  },
  {
   "cell_type": "raw",
   "id": "e031f6ec",
   "metadata": {},
   "source": [
    "5. What is the value of spam[:2]?\n",
    "\n",
    "    [2, 4]"
   ]
  },
  {
   "cell_type": "raw",
   "id": "94224753",
   "metadata": {},
   "source": [
    "Let's pretend bacon has the list [3.14, 'cat', 11, 'cat', True] for the next three questions.\n",
    "\n",
    "6. What is the value of bacon.index('cat')?\n",
    "\n",
    "    1\n",
    "    \n",
    "    \n",
    "7. How does bacon.append(99) change the look of the list value in bacon?\n",
    "\n",
    "    bacon=[3.14, 'cat', 11, 'cat', True,99]\n",
    "    \n",
    "    \n",
    "8. How does bacon.remove('cat') change the look of the list in bacon?\n",
    "\n",
    "    [3.14, 11, 'cat', True, 99]"
   ]
  },
  {
   "cell_type": "raw",
   "id": "416b86f4",
   "metadata": {},
   "source": [
    "9. What are the list concatenation and list replication operators?\n",
    "\n",
    "    The operator for list concatenation is +, while the operator for replication is *."
   ]
  },
  {
   "cell_type": "raw",
   "id": "b4bad7bb",
   "metadata": {},
   "source": [
    "10. What is difference between the list methods append() and insert()?\n",
    "\n",
    "     append() adds an item to the end of a list, whereas . insert() inserts and item in a specified position in the list."
   ]
  },
  {
   "cell_type": "raw",
   "id": "8418fcde",
   "metadata": {},
   "source": [
    "11. What are the two methods for removing items from a list?\n",
    "\n",
    "    The methods are remove(), pop() and clear(). It helps to remove the very first given element matching from the list. The pop() method removes an element from the list based on the index given. The clear() method will remove all the elements present in the list."
   ]
  },
  {
   "cell_type": "raw",
   "id": "fa5d6de8",
   "metadata": {},
   "source": [
    "12. Describe how list values and string values are identical.\n",
    "\n",
    "    The similarity between Lists and Strings in Python is that both are sequences. The differences between them are that firstly, Lists are mutable but Strings are immutable. Secondly, elements of a list can be of different types whereas a String only contains characters that are all of String type."
   ]
  },
  {
   "cell_type": "raw",
   "id": "fadf9116",
   "metadata": {},
   "source": [
    "13. What's the difference between tuples and lists?\n",
    "\n",
    "    The primary difference between tuples and lists is that tuples are immutable as opposed to lists which are mutable. Therefore, it is possible to change a list but not a tuple. The contents of a tuple cannot change once they have been created in Python due to the immutability of tuples.Also, tuples are written using parentheses, ( and ), while lists use the square brackets, [ and ]."
   ]
  },
  {
   "cell_type": "raw",
   "id": "83b7c00e",
   "metadata": {},
   "source": [
    "14. How do you type a tuple value that only contains the integer 42?\n",
    "\n",
    "    t=(4)"
   ]
  },
  {
   "cell_type": "raw",
   "id": "970bf968",
   "metadata": {},
   "source": [
    "15. How do you get a list value's tuple form? How do you get a tuple value's list form?\n",
    "\n",
    "    Using the tuple() built-in function\n",
    "An iterable can be passed as an input to the tuple () function, which will convert it to a tuple object. If you want to convert a Python list to a tuple, you can use the tuple() function to pass the full list as an argument, and it will return the tuple data type as an output\n",
    "\n",
    "    Python list method list() takes sequence types and converts them to lists. This is used to convert a given tuple into list"
   ]
  },
  {
   "cell_type": "raw",
   "id": "8ba9d7aa",
   "metadata": {},
   "source": [
    "16. Variables that \"contain\" list values are not necessarily lists themselves. Instead, what do they contain?\n",
    "\n",
    "    Variables will contain references to list values rather than list values themselves."
   ]
  },
  {
   "cell_type": "raw",
   "id": "29e38cae",
   "metadata": {},
   "source": [
    "17. How do you distinguish between copy.copy() and copy.deepcopy()?\n",
    "\n",
    "    copy() create reference to original object. If you change copied object - you change the original object. . deepcopy() creates new object and does real copying of original object to new one. Changing new deepcopied object doesn't affect original object."
   ]
  }
 ],
 "metadata": {
  "kernelspec": {
   "display_name": "Python 3 (ipykernel)",
   "language": "python",
   "name": "python3"
  },
  "language_info": {
   "codemirror_mode": {
    "name": "ipython",
    "version": 3
   },
   "file_extension": ".py",
   "mimetype": "text/x-python",
   "name": "python",
   "nbconvert_exporter": "python",
   "pygments_lexer": "ipython3",
   "version": "3.9.7"
  }
 },
 "nbformat": 4,
 "nbformat_minor": 5
}
