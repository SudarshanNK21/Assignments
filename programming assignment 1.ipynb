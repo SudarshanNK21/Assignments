{
 "cells": [
  {
   "cell_type": "code",
   "execution_count": 2,
   "id": "43cda557",
   "metadata": {},
   "outputs": [
    {
     "name": "stdout",
     "output_type": "stream",
     "text": [
      "Hello Python\n"
     ]
    }
   ],
   "source": [
    "# Write a Python program to print \"Hello Python\"?\n",
    "\n",
    "print(\"Hello Python\")\n",
    "\n"
   ]
  },
  {
   "cell_type": "code",
   "execution_count": 3,
   "id": "92899d5f",
   "metadata": {},
   "outputs": [
    {
     "name": "stdout",
     "output_type": "stream",
     "text": [
      "enter first num10\n",
      "enter second num20\n",
      "addition of a and b is 30\n",
      "division of a and b is 0.5\n"
     ]
    }
   ],
   "source": [
    "# Write a Python program to do arithmetical operations addition and division.?\n",
    "\n",
    "a=int(input('enter first num :'))\n",
    "b=int(input('enter second num :'))\n",
    "\n",
    "c=a+b\n",
    "d=a/b\n",
    "\n",
    "print(f'addition of a and b is {c}')\n",
    "print(f'division of a and b is {d}')"
   ]
  },
  {
   "cell_type": "code",
   "execution_count": 5,
   "id": "2298371e",
   "metadata": {},
   "outputs": [
    {
     "name": "stdout",
     "output_type": "stream",
     "text": [
      "enter the base of triangle :7\n",
      "enter the height of triangle :8\n",
      "area of the triangle is 28.0 square units\n"
     ]
    }
   ],
   "source": [
    "#Write a Python program to find the area of a triangle?\n",
    "\n",
    "base=int(input('enter the base of triangle :'))\n",
    "height=int(input('enter the height of triangle :'))\n",
    "\n",
    "area=(base*height)/2\n",
    "\n",
    "print(f'area of the triangle is {area} square units')"
   ]
  },
  {
   "cell_type": "code",
   "execution_count": 7,
   "id": "a2b8c77b",
   "metadata": {},
   "outputs": [
    {
     "name": "stdout",
     "output_type": "stream",
     "text": [
      "enter first num :10\n",
      "enter second num :15\n",
      "a=10\n",
      "b=15\n",
      "a=15\n",
      "b=10\n"
     ]
    }
   ],
   "source": [
    "#Write a Python program to swap two variables?\n",
    "\n",
    "a=int(input('enter first num :'))\n",
    "b=int(input('enter second num :'))\n",
    "\n",
    "print(f'a={a}')\n",
    "print(f'b={b}')\n",
    "\n",
    "temp=a\n",
    "a=b\n",
    "b=temp\n",
    "\n",
    "print(f'a={a}')\n",
    "print(f'b={b}')"
   ]
  },
  {
   "cell_type": "code",
   "execution_count": 8,
   "id": "c756fe52",
   "metadata": {},
   "outputs": [
    {
     "name": "stdout",
     "output_type": "stream",
     "text": [
      "41\n"
     ]
    }
   ],
   "source": [
    "# Write a Python program to generate a random number?\n",
    "\n",
    "import random\n",
    "\n",
    "a=random.randint(1,101)\n",
    "print(a)"
   ]
  },
  {
   "cell_type": "code",
   "execution_count": null,
   "id": "57931ee6",
   "metadata": {},
   "outputs": [],
   "source": []
  }
 ],
 "metadata": {
  "kernelspec": {
   "display_name": "Python 3 (ipykernel)",
   "language": "python",
   "name": "python3"
  },
  "language_info": {
   "codemirror_mode": {
    "name": "ipython",
    "version": 3
   },
   "file_extension": ".py",
   "mimetype": "text/x-python",
   "name": "python",
   "nbconvert_exporter": "python",
   "pygments_lexer": "ipython3",
   "version": "3.9.7"
  }
 },
 "nbformat": 4,
 "nbformat_minor": 5
}
