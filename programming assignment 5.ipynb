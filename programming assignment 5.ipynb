{
 "cells": [
  {
   "cell_type": "code",
   "execution_count": 2,
   "id": "a47f691b",
   "metadata": {},
   "outputs": [
    {
     "name": "stdout",
     "output_type": "stream",
     "text": [
      "enter a number1 :54\n",
      "enter a number2 :24\n",
      "The L.C.M. is 216\n"
     ]
    }
   ],
   "source": [
    "# Write a Python Program to Find LCM?\n",
    "\n",
    "def compute_lcm(x, y):\n",
    "   if x > y:\n",
    "       greater = x\n",
    "   else:\n",
    "       greater = y\n",
    "\n",
    "   while(True):\n",
    "       if((greater % x == 0) and (greater % y == 0)):\n",
    "           lcm = greater\n",
    "           break\n",
    "       greater += 1\n",
    "\n",
    "   return lcm\n",
    "\n",
    "num1 = int(input('enter a number1 :'))\n",
    "num2 = int(input('enter a number2 :'))\n",
    "\n",
    "print(\"The L.C.M. is\", compute_lcm(num1, num2))\n"
   ]
  },
  {
   "cell_type": "code",
   "execution_count": 4,
   "id": "d4cf1596",
   "metadata": {},
   "outputs": [
    {
     "name": "stdout",
     "output_type": "stream",
     "text": [
      "The HCF is 6\n"
     ]
    }
   ],
   "source": [
    "# Write a Python Program to Find HCF?\n",
    "\n",
    "def compute_hcf(x, y):\n",
    "   while(y):\n",
    "       x, y = y, x % y\n",
    "   return x\n",
    "\n",
    "hcf = compute_hcf(54, 24)\n",
    "print(\"The HCF is\", hcf)"
   ]
  },
  {
   "cell_type": "code",
   "execution_count": 6,
   "id": "9c41d485",
   "metadata": {},
   "outputs": [
    {
     "name": "stdout",
     "output_type": "stream",
     "text": [
      "Enter Number: 10\n",
      "The decimal value of 10 is:\n",
      "0b1010 in binary.\n",
      "0o12 in octal.\n",
      "0xa in hexadecimal.\n"
     ]
    }
   ],
   "source": [
    "# Write a Python Program to Convert Decimal to Binary, Octal and Hexadecimal?\n",
    "num = int(input(\"Enter Number: \"))\n",
    "print(\"The decimal value of\", num, \"is:\")\n",
    "print(bin(num), \"in binary.\")\n",
    "print(oct(num), \"in octal.\")\n",
    "print(hex(num), \"in hexadecimal.\")\n"
   ]
  },
  {
   "cell_type": "code",
   "execution_count": 7,
   "id": "299596b2",
   "metadata": {},
   "outputs": [
    {
     "name": "stdout",
     "output_type": "stream",
     "text": [
      "enter a char: a\n",
      "The ASCII value of 'a' is 97\n"
     ]
    }
   ],
   "source": [
    "# Write a Python Program To Find ASCII value of a character?\n",
    "\n",
    "c=input('enter a char: ')\n",
    "print(\"The ASCII value of '\" + c + \"' is\", ord(c))"
   ]
  },
  {
   "cell_type": "code",
   "execution_count": 8,
   "id": "8ac7184c",
   "metadata": {},
   "outputs": [
    {
     "name": "stdout",
     "output_type": "stream",
     "text": [
      "enter 1st num: 5\n",
      "enter 2nd num: 10\n",
      "+\n",
      "-\n",
      "*\n",
      "/\n",
      "enter the operation you want to do from above : *\n",
      "50\n"
     ]
    }
   ],
   "source": [
    "# Write a Python Program to Make a Simple Calculator with 4 basic mathematical operations?\n",
    "\n",
    "def add(n1,n2):\n",
    "    return n1+n2\n",
    "\n",
    "def sub(n1,n2):\n",
    "    return n1-n2\n",
    "\n",
    "def multiply(n1,n2):\n",
    "    return n1*n2\n",
    "\n",
    "def devide(n1,n2):\n",
    "    return n1/n2\n",
    "\n",
    "operations={\n",
    "      '+':add,\n",
    "      '-':sub,\n",
    "      '*':multiply,\n",
    "      '/':devide\n",
    "      }\n",
    "\n",
    "num1=int(input('enter 1st num: '))\n",
    "num2=int(input('enter 2nd num: '))\n",
    "\n",
    "for i in operations:\n",
    "    print(i)\n",
    "    \n",
    "sign=input('enter the operation you want to do from above : ')\n",
    "\n",
    "function=operations[sign]\n",
    "\n",
    "ans=function(num1,num2)\n",
    "\n",
    "print(ans)"
   ]
  }
 ],
 "metadata": {
  "kernelspec": {
   "display_name": "Python 3 (ipykernel)",
   "language": "python",
   "name": "python3"
  },
  "language_info": {
   "codemirror_mode": {
    "name": "ipython",
    "version": 3
   },
   "file_extension": ".py",
   "mimetype": "text/x-python",
   "name": "python",
   "nbconvert_exporter": "python",
   "pygments_lexer": "ipython3",
   "version": "3.9.7"
  }
 },
 "nbformat": 4,
 "nbformat_minor": 5
}
