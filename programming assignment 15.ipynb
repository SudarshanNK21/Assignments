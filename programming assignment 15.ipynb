{
 "cells": [
  {
   "cell_type": "code",
   "execution_count": 1,
   "id": "5ba10e6f",
   "metadata": {},
   "outputs": [
    {
     "name": "stdout",
     "output_type": "stream",
     "text": [
      "100\n",
      "0,35,70\n"
     ]
    }
   ],
   "source": [
    "'''\n",
    "Question 1:\n",
    "Please write a program using generator to print the numbers which can be divisible by 5 and\n",
    "7 between 0 and n in comma separated form while n is input by console.\n",
    "'''\n",
    "def generate(n):\n",
    "    for i in range(n+1):\n",
    "        if i % 35 == 0:   \n",
    "            yield i\n",
    "\n",
    "n = int(input())\n",
    "resp = [str(i) for i in generate(n)]\n",
    "print(\",\".join(resp))"
   ]
  },
  {
   "cell_type": "code",
   "execution_count": 2,
   "id": "00f8d254",
   "metadata": {},
   "outputs": [
    {
     "name": "stdout",
     "output_type": "stream",
     "text": [
      "10\n",
      "0,2,4,6,8,10\n"
     ]
    }
   ],
   "source": [
    "'''\n",
    "Question 2:\n",
    "Please write a program using generator to print the even numbers between 0 and n in comma\n",
    "separated form while n is input by console.\n",
    "'''\n",
    "\n",
    "n = int(input())\n",
    "\n",
    "for i in range(0, n+1, 2):\n",
    "  if i < n - 1:\n",
    "    print(i, end = ',' )\n",
    "  else:\n",
    "    print(i)"
   ]
  },
  {
   "cell_type": "code",
   "execution_count": 4,
   "id": "8c7d987b",
   "metadata": {},
   "outputs": [
    {
     "name": "stdout",
     "output_type": "stream",
     "text": [
      "7\n",
      "0,1,1,2,3,5,8,13\n"
     ]
    }
   ],
   "source": [
    "'''\n",
    "Question 3:\n",
    "The Fibonacci Sequence is computed based on the following formula:\n",
    "f(n)=0 if n=0\n",
    "f(n)=1 if n=1\n",
    "f(n)=f(n-1)+f(n-2) if n>1\n",
    "Please write a program using list comprehension to print the Fibonacci Sequence in comma\n",
    "separated form with a given n input by console.\n",
    "'''\n",
    "\n",
    "def f(n):\n",
    "    if n == 0:\n",
    "        return 0\n",
    "    elif n == 1:\n",
    "        return 1\n",
    "    else: \n",
    "        return f(n-1)+f(n-2)\n",
    "\n",
    "n=int(input())\n",
    "values = [str(f(x)) for x in range(0, n+1)]\n",
    "print(\",\".join(values))"
   ]
  },
  {
   "cell_type": "code",
   "execution_count": 11,
   "id": "87607393",
   "metadata": {},
   "outputs": [
    {
     "name": "stdout",
     "output_type": "stream",
     "text": [
      "john@google.com\n",
      "john\n"
     ]
    }
   ],
   "source": [
    "'''\n",
    "Question 4:\n",
    "Assuming that we have some email addresses in the  \"username@companyname.com\"  format,\n",
    "please write program to print the user name of a given email address. Both user names and\n",
    "company names are composed of letters only.\n",
    "'''\n",
    "import re\n",
    "emailAddress = input()\n",
    "pat2 = \"(\\w+)@(\\w+)\\.(com)\"\n",
    "r2 = re.match(pat2,emailAddress)\n",
    "print(r2.group(1))"
   ]
  },
  {
   "cell_type": "code",
   "execution_count": 12,
   "id": "e5068001",
   "metadata": {},
   "outputs": [
    {
     "name": "stdout",
     "output_type": "stream",
     "text": [
      "25\n",
      "0\n"
     ]
    }
   ],
   "source": [
    "'''\n",
    "Question 5:\n",
    "Define a class named Shape and its subclass Square. The Square class has an init function\n",
    "which takes a length as argument. Both classes have a area function which can print the area\n",
    "of the shape where Shape's area is 0 by default.\n",
    "'''\n",
    "\n",
    "class Shape():\n",
    "    def __init__(self):\n",
    "        pass\n",
    "\n",
    "    def area(self):\n",
    "        return 0\n",
    "\n",
    "class Square(Shape):\n",
    "    def __init__(self,length = 0):\n",
    "        Shape.__init__(self)\n",
    "        self.length = length\n",
    "\n",
    "    def area(self):\n",
    "        return self.length*self.length\n",
    "\n",
    "Asqr = Square(5)\n",
    "print(Asqr.area())      \n",
    "\n",
    "print(Square().area())\n"
   ]
  },
  {
   "cell_type": "code",
   "execution_count": null,
   "id": "c9d77e83",
   "metadata": {},
   "outputs": [],
   "source": []
  }
 ],
 "metadata": {
  "kernelspec": {
   "display_name": "Python 3 (ipykernel)",
   "language": "python",
   "name": "python3"
  },
  "language_info": {
   "codemirror_mode": {
    "name": "ipython",
    "version": 3
   },
   "file_extension": ".py",
   "mimetype": "text/x-python",
   "name": "python",
   "nbconvert_exporter": "python",
   "pygments_lexer": "ipython3",
   "version": "3.9.7"
  }
 },
 "nbformat": 4,
 "nbformat_minor": 5
}
