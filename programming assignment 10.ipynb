{
 "cells": [
  {
   "cell_type": "code",
   "execution_count": 2,
   "id": "b1a8c0bf",
   "metadata": {},
   "outputs": [
    {
     "name": "stdout",
     "output_type": "stream",
     "text": [
      "enter the numbers for list divided by space1 2 3 \n",
      "['1', '2', '3']\n",
      "sum of list:  6\n"
     ]
    }
   ],
   "source": [
    "#1. Write a Python program to find sum of elements in list?\n",
    "\n",
    "def sumlist(list):\n",
    "    sum=0\n",
    "    for i in range(len(list)):\n",
    "        sum += int(list[i])\n",
    "    return sum\n",
    "\n",
    "\n",
    "list = input('enter the numbers for list divided by space').split()\n",
    "print(list)\n",
    "print(\"sum of list: \",sumlist(list))"
   ]
  },
  {
   "cell_type": "code",
   "execution_count": 5,
   "id": "5105e050",
   "metadata": {},
   "outputs": [
    {
     "name": "stdout",
     "output_type": "stream",
     "text": [
      "enter the numbers for list divided by space1 2 3 4\n",
      "['1', '2', '3', '4']\n",
      "Multiplication of all numbers in the list:  24\n"
     ]
    }
   ],
   "source": [
    "#2. Write a Python program to Multiply all numbers in the list?\n",
    "\n",
    "def multiply(list):\n",
    "    mul=1\n",
    "    for i in range(len(list)):\n",
    "        mul *= int(list[i])\n",
    "    return mul\n",
    "\n",
    "\n",
    "list = input('enter the numbers for list divided by space').split()\n",
    "print(list)\n",
    "print(\"Multiplication of all numbers in the list: \",multiply(list))"
   ]
  },
  {
   "cell_type": "code",
   "execution_count": 6,
   "id": "28114ea3",
   "metadata": {},
   "outputs": [
    {
     "name": "stdout",
     "output_type": "stream",
     "text": [
      "enter the numbers for list divided by space 1 2 3\n",
      "smallest in  ['1', '2', '3'] is\n",
      "1\n"
     ]
    }
   ],
   "source": [
    "#3. Write a Python program to find smallest number in a list?\n",
    "\n",
    "def smallest(list):\n",
    "    small= list[0]\n",
    "    for i in list:\n",
    "        if i<small:\n",
    "            small=i\n",
    "    return small\n",
    "\n",
    "list=input('enter the numbers for list divided by space').split()\n",
    "print(\"smallest in \",list,\"is\")\n",
    "print(smallest(list))"
   ]
  },
  {
   "cell_type": "code",
   "execution_count": 8,
   "id": "69e05bd5",
   "metadata": {},
   "outputs": [
    {
     "name": "stdout",
     "output_type": "stream",
     "text": [
      "enter the numbers for list divided by space1 2 3\n",
      "largest in  ['1', '2', '3'] is\n",
      "3\n"
     ]
    }
   ],
   "source": [
    "#4. Write a Python program to find largest number in a list?\n",
    "\n",
    "def largest(list):\n",
    "    large= list[0]\n",
    "    for i in list:\n",
    "        if i > large:\n",
    "            large=i\n",
    "    return  large\n",
    "\n",
    "list=input('enter the numbers for list divided by space').split()\n",
    "print(\"largest in \",list,\"is\")\n",
    "print(largest(list))"
   ]
  },
  {
   "cell_type": "code",
   "execution_count": 12,
   "id": "b5dbe7e3",
   "metadata": {},
   "outputs": [
    {
     "name": "stdout",
     "output_type": "stream",
     "text": [
      "Enter number of elements:5 \n",
      "Enter element:1\n",
      "Enter element:2\n",
      "Enter element:3\n",
      "Enter element:4\n",
      "Enter element:5\n",
      "Second largest element is: 4\n"
     ]
    }
   ],
   "source": [
    "#5. Write a Python program to find second largest number in a list?\n",
    "\n",
    "a=[]\n",
    "n=int(input(\"Enter number of elements:\"))\n",
    "for i in range(1,n+1):\n",
    "    b=int(input(\"Enter element:\"))\n",
    "    a.append(b)\n",
    "a.sort()\n",
    "print(\"Second largest element is:\",a[n-2])\n",
    "\n"
   ]
  },
  {
   "cell_type": "code",
   "execution_count": 31,
   "id": "b06e7590",
   "metadata": {},
   "outputs": [
    {
     "name": "stdout",
     "output_type": "stream",
     "text": [
      "enter the numbers for list divided by space1 2 3 4 5 6 7 8 9\n",
      "how amny largest elements you want?3\n",
      "3 max elements in  ['1', '2', '3', '4', '5', '6', '7', '8', '9']\n",
      "['9', '8', '7']\n"
     ]
    }
   ],
   "source": [
    "#6. Write a Python program to find N largest elements from a list?\n",
    "\n",
    "def N_max_elements(list, N):\n",
    "    result_list = []\n",
    "  \n",
    "    for i in range(0, N): \n",
    "        maximum = 0\n",
    "          \n",
    "        for j in range(len(list)):     \n",
    "            if int(list[j]) > int(maximum):\n",
    "                maximum = list[j]\n",
    "                  \n",
    "        list.remove(maximum)\n",
    "        result_list.append(maximum)\n",
    "          \n",
    "    return result_list\n",
    "  \n",
    "\n",
    "list1 = input('enter the numbers for list divided by space').split()\n",
    "N = int(input('how amny largest elements you want?'))\n",
    "\n",
    "print(N, \"max elements in \",list1)\n",
    "print(N_max_elements(list1, N))"
   ]
  },
  {
   "cell_type": "code",
   "execution_count": 36,
   "id": "47c39ce2",
   "metadata": {},
   "outputs": [
    {
     "name": "stdout",
     "output_type": "stream",
     "text": [
      "enter the numbers for list divided by space1 2 3 4 5 6 7 8 9\n",
      "['2', '4', '6', '8']\n"
     ]
    }
   ],
   "source": [
    "#7. Write a Python program to print even numbers in a list?\n",
    "\n",
    "def is_even_num(l):\n",
    "    enum = []\n",
    "    for n in l:\n",
    "        if int(n) % 2 == 0:\n",
    "            enum.append(n)\n",
    "    return enum\n",
    "\n",
    "l1 = input('enter the numbers for list divided by space').split()\n",
    "print(is_even_num(l1))"
   ]
  },
  {
   "cell_type": "code",
   "execution_count": 39,
   "id": "bcb0b73e",
   "metadata": {},
   "outputs": [
    {
     "name": "stdout",
     "output_type": "stream",
     "text": [
      "enter the numbers for list divided by space1 2 3 4 5 6 7 8 9\n",
      "['1', '3', '5', '7', '9']\n"
     ]
    }
   ],
   "source": [
    "#8. Write a Python program to print odd numbers in a List?\n",
    "\n",
    "def is_odd_num(l):\n",
    "    onum = []\n",
    "    for n in l:\n",
    "        if int(n) % 2 != 0:\n",
    "            onum.append(n)\n",
    "    return onum\n",
    "\n",
    "l1 = input('enter the numbers for list divided by space').split()\n",
    "print(is_odd_num(l1))"
   ]
  },
  {
   "cell_type": "code",
   "execution_count": 43,
   "id": "6870ef9e",
   "metadata": {},
   "outputs": [
    {
     "name": "stdout",
     "output_type": "stream",
     "text": [
      "Original list:\n",
      "[[], [], [], 'Red', 'Green', [1, 2], 'Blue', [], []]\n",
      "\n",
      "After deleting the empty lists from the said lists of lists\n",
      "['Red', 'Green', [1, 2], 'Blue']\n"
     ]
    }
   ],
   "source": [
    "#9. Write a Python program to Remove empty List from List?\n",
    "\n",
    "list1 = [[], [], [], 'Red', 'Green', [1,2], 'Blue', [], []]\n",
    "print(\"Original list:\")\n",
    "print(list1)\n",
    "print(\"\\nAfter deleting the empty lists from the said lists of lists\")\n",
    "list2 = [x for x in list1 if x]\n",
    "print(list2)\n"
   ]
  },
  {
   "cell_type": "code",
   "execution_count": 40,
   "id": "775de476",
   "metadata": {},
   "outputs": [
    {
     "name": "stdout",
     "output_type": "stream",
     "text": [
      "Enter size of list 3 \n",
      "Enter element of list 1\n",
      "Enter element of list 2\n",
      "Enter element of list 3\n",
      "Original list:  [1, 2, 3]\n",
      "After cloning:  [1, 2, 3]\n"
     ]
    }
   ],
   "source": [
    "#10. Write a Python program to Cloning or Copying a list?\n",
    "\n",
    "li=[]\n",
    "n=int(input(\"Enter size of list \"))\n",
    "for i in range(0,n):\n",
    "    e=int(input(\"Enter element of list \"))\n",
    "    li.append(e)\n",
    "print(\"Original list: \",li)\n",
    "\n",
    "list_copy = li[:]\n",
    "print(\"After cloning: \",list_copy)"
   ]
  },
  {
   "cell_type": "code",
   "execution_count": 44,
   "id": "0b0a1449",
   "metadata": {},
   "outputs": [
    {
     "name": "stdout",
     "output_type": "stream",
     "text": [
      "Enter number of elements : 5\n",
      "5\n",
      "5\n",
      "5\n",
      "5\n",
      "5\n",
      "Enter the number to see its count in the list: 5\n",
      "5 has occurred 5 times\n"
     ]
    }
   ],
   "source": [
    "#11. Write a Python program to Count occurrences of an element in a list? \n",
    "\n",
    "def countX(lst8, x):\n",
    "    count = 0\n",
    "    for item in lst8:\n",
    "        if (item == x):\n",
    "            count = count + 1\n",
    "    return count\n",
    "lst8 = []\n",
    "n9 = int(input(\"Enter number of elements : \"))\n",
    "for i in range(0, n9):\n",
    "    ele9 = int(input())\n",
    "    lst8.append(ele9)\n",
    "x = int(input(\"Enter the number to see its count in the list: \"))\n",
    "print('{} has occurred {} times'.format(x, countX(lst8, x)))\n",
    "\n",
    "\n"
   ]
  },
  {
   "cell_type": "code",
   "execution_count": null,
   "id": "00f90cd7",
   "metadata": {},
   "outputs": [],
   "source": []
  }
 ],
 "metadata": {
  "kernelspec": {
   "display_name": "Python 3 (ipykernel)",
   "language": "python",
   "name": "python3"
  },
  "language_info": {
   "codemirror_mode": {
    "name": "ipython",
    "version": 3
   },
   "file_extension": ".py",
   "mimetype": "text/x-python",
   "name": "python",
   "nbconvert_exporter": "python",
   "pygments_lexer": "ipython3",
   "version": "3.9.7"
  }
 },
 "nbformat": 4,
 "nbformat_minor": 5
}
